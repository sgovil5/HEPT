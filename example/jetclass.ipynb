{
 "cells": [
  {
   "cell_type": "code",
   "execution_count": 1,
   "metadata": {},
   "outputs": [],
   "source": [
    "import os\n",
    "import sys\n",
    "sys.path.append('../src')\n",
    "\n",
    "import torch\n",
    "import torch.utils.benchmark as benchmark\n",
    "from pathlib import Path\n",
    "\n",
    "from transformer import Transformer\n",
    "from trainer import run_one_epoch, init_metrics\n",
    "from utils import get_loss, get_optimizer, get_lr_scheduler\n",
    "from utils.get_data import get_data_loader, get_dataset\n",
    "\n",
    "torch.set_num_threads(10)"
   ]
  },
  {
   "cell_type": "code",
   "execution_count": 2,
   "metadata": {},
   "outputs": [],
   "source": [
    "device = 'cuda:0'\n",
    "dataset_name = 'jetclass'\n",
    "batch_size = 1\n",
    "model_configs = {\n",
    "    'block_size': 100,\n",
    "    'n_hashes': 3,\n",
    "    'num_regions': 150,\n",
    "    'num_heads': 8,\n",
    "    'h_dim': 24,\n",
    "    'n_layers': 4,\n",
    "    'num_w_per_dist': 10,\n",
    "}\n"
   ]
  },
  {
   "cell_type": "code",
   "execution_count": 3,
   "metadata": {},
   "outputs": [
    {
     "name": "stderr",
     "output_type": "stream",
     "text": [
      "Processing...\n",
      "Done!\n"
     ]
    }
   ],
   "source": [
    "dataset_dir = Path('../data/') / dataset_name.split(\"-\")[0]\n",
    "dataset = get_dataset(dataset_name, dataset_dir)"
   ]
  },
  {
   "cell_type": "code",
   "execution_count": 5,
   "metadata": {},
   "outputs": [],
   "source": [
    "loaders = get_data_loader(dataset, dataset.idx_split, batch_size=batch_size)"
   ]
  },
  {
   "cell_type": "code",
   "execution_count": 6,
   "metadata": {},
   "outputs": [
    {
     "name": "stdout",
     "output_type": "stream",
     "text": [
      "Shape of data.pos: torch.Size([128, 2])\n",
      "Shape of data.x: torch.Size([128, 4])\n",
      "Shape of data.coords: torch.Size([128, 4])\n",
      "Shape of data.y: torch.Size([10])\n",
      "tensor([0, 0, 0, 0, 0, 1, 0, 0, 0, 0])\n",
      "x dim: 4\n",
      "torch.Size([1600, 128])\n"
     ]
    }
   ],
   "source": [
    "sample = dataset[1]\n",
    "print(\"Shape of data.pos:\", sample.pos.shape)\n",
    "print(\"Shape of data.x:\", sample.x.shape)\n",
    "print(\"Shape of data.coords:\", sample.coords.shape)\n",
    "print(\"Shape of data.y:\", sample.y.shape)\n",
    "print(sample.y)\n",
    "print(\"x dim:\", dataset.x_dim)\n",
    "print(dataset.x.shape)\n",
    "# print(\"coords dim:\", dataset.coords_dim)\n",
    "\n",
    "# model = Transformer(in_dim=dataset.x_dim, coords_dim=dataset.coords_dim, num_classes=dataset.num_classes, **model_configs).to(device)\n",
    "model = Transformer(in_dim=dataset.x_dim, coords_dim=dataset.coords_dim, num_classes=10, **model_configs).to(device)"
   ]
  },
  {
   "cell_type": "code",
   "execution_count": 9,
   "metadata": {},
   "outputs": [
    {
     "name": "stdout",
     "output_type": "stream",
     "text": [
      "[40, 40, 40, 40, 40, 40, 40, 40, 40, 40]\n"
     ]
    }
   ],
   "source": [
    "from numpy import argmax\n",
    "count = [0]*10\n",
    "for sample in dataset:\n",
    "    count[argmax(sample.y)] += 1\n",
    "print(count)\n"
   ]
  },
  {
   "cell_type": "code",
   "execution_count": 10,
   "metadata": {},
   "outputs": [],
   "source": [
    "criterion = get_loss('crossentropy', None)\n",
    "metrics = init_metrics('jetclass')"
   ]
  },
  {
   "cell_type": "code",
   "execution_count": 9,
   "metadata": {},
   "outputs": [],
   "source": [
    "from torch.optim import Adam\n",
    "from torch.optim.lr_scheduler import ReduceLROnPlateau\n",
    "config = {\n",
    "    'optimizer_name': 'adam',\n",
    "    'optimizer_kwargs': {'lr': 1.0e-3},\n",
    "    'lr_scheduler_name': 'impatient',\n",
    "    'lr_scheduler_kwargs': {\n",
    "        'factor': 0.5,\n",
    "        'patience': 20,\n",
    "        'mode': 'min',\n",
    "        'num_training_steps': 1\n",
    "    },\n",
    "    \n",
    "}\n",
    "# Get optimizer\n",
    "optimizer = get_optimizer(model.parameters(), config['optimizer_name'], config['optimizer_kwargs'])\n",
    "# Get learning rate scheduler\n",
    "lr_scheduler = get_lr_scheduler(optimizer, config['lr_scheduler_name'], config['lr_scheduler_kwargs'])"
   ]
  },
  {
   "cell_type": "code",
   "execution_count": 8,
   "metadata": {},
   "outputs": [
    {
     "ename": "NameError",
     "evalue": "name 'optimizer' is not defined",
     "output_type": "error",
     "traceback": [
      "\u001b[0;31m---------------------------------------------------------------------------\u001b[0m",
      "\u001b[0;31mNameError\u001b[0m                                 Traceback (most recent call last)",
      "Cell \u001b[0;32mIn[8], line 2\u001b[0m\n\u001b[1;32m      1\u001b[0m \u001b[38;5;28;01mfor\u001b[39;00m _ \u001b[38;5;129;01min\u001b[39;00m \u001b[38;5;28mrange\u001b[39m(\u001b[38;5;241m1\u001b[39m): \n\u001b[0;32m----> 2\u001b[0m     train_res \u001b[38;5;241m=\u001b[39m run_one_epoch(model, \u001b[43moptimizer\u001b[49m, criterion, loaders[\u001b[38;5;124m\"\u001b[39m\u001b[38;5;124mtrain\u001b[39m\u001b[38;5;124m\"\u001b[39m], \u001b[38;5;124m\"\u001b[39m\u001b[38;5;124mtrain\u001b[39m\u001b[38;5;124m\"\u001b[39m, \u001b[38;5;241m0\u001b[39m, device, metrics, lr_scheduler)\n\u001b[1;32m      3\u001b[0m     \u001b[38;5;28mprint\u001b[39m(train_res)\n",
      "\u001b[0;31mNameError\u001b[0m: name 'optimizer' is not defined"
     ]
    }
   ],
   "source": [
    "for _ in range(1): \n",
    "    train_res = run_one_epoch(model, optimizer, criterion, loaders[\"train\"], \"train\", 0, device, metrics, lr_scheduler)\n",
    "    print(train_res)"
   ]
  },
  {
   "cell_type": "code",
   "execution_count": null,
   "metadata": {},
   "outputs": [],
   "source": []
  },
  {
   "cell_type": "code",
   "execution_count": null,
   "metadata": {},
   "outputs": [],
   "source": []
  }
 ],
 "metadata": {
  "kernelspec": {
   "display_name": "hept",
   "language": "python",
   "name": "python3"
  },
  "language_info": {
   "codemirror_mode": {
    "name": "ipython",
    "version": 3
   },
   "file_extension": ".py",
   "mimetype": "text/x-python",
   "name": "python",
   "nbconvert_exporter": "python",
   "pygments_lexer": "ipython3",
   "version": "3.9.19"
  }
 },
 "nbformat": 4,
 "nbformat_minor": 2
}

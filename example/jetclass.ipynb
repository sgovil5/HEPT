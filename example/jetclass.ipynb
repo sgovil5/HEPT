{
 "cells": [
  {
   "cell_type": "code",
   "execution_count": 1,
   "metadata": {},
   "outputs": [],
   "source": [
    "import os\n",
    "import sys\n",
    "sys.path.append('../src')\n",
    "\n",
    "import torch\n",
    "import torch.utils.benchmark as benchmark\n",
    "from pathlib import Path\n",
    "\n",
    "from transformer import Transformer\n",
    "from trainer import run_one_epoch, init_metrics\n",
    "from utils import get_loss, get_optimizer, get_lr_scheduler\n",
    "from utils.get_data import get_data_loader, get_dataset\n",
    "\n",
    "torch.set_num_threads(10)"
   ]
  },
  {
   "cell_type": "code",
   "execution_count": 2,
   "metadata": {},
   "outputs": [],
   "source": [
    "device = 'cuda:0'\n",
    "dataset_name = 'jetclass'\n",
    "batch_size = 1\n",
    "model_configs = {\n",
    "    'block_size': 100,\n",
    "    'n_hashes': 3,\n",
    "    'num_regions': 150,\n",
    "    'num_heads': 8,\n",
    "    'h_dim': 24,\n",
    "    'n_layers': 4,\n",
    "    'num_w_per_dist': 10,\n",
    "}\n"
   ]
  },
  {
   "cell_type": "code",
   "execution_count": 3,
   "metadata": {},
   "outputs": [],
   "source": [
    "dataset_dir = Path('../data/') / dataset_name.split(\"-\")[0]\n",
    "dataset = get_dataset(dataset_name, dataset_dir)"
   ]
  },
  {
   "cell_type": "code",
   "execution_count": 4,
   "metadata": {},
   "outputs": [],
   "source": [
    "loaders = get_data_loader(dataset, dataset.idx_split, batch_size=batch_size)"
   ]
  },
  {
   "cell_type": "code",
   "execution_count": 5,
   "metadata": {},
   "outputs": [
    {
     "name": "stdout",
     "output_type": "stream",
     "text": [
      "Shape of data.pos: torch.Size([128, 2])\n",
      "Shape of data.x: torch.Size([128, 4])\n",
      "Shape of data.coords: torch.Size([128, 4])\n",
      "Shape of data.y: torch.Size([10])\n",
      "tensor([0, 1, 0, 0, 0, 0, 0, 0, 0, 0])\n"
     ]
    }
   ],
   "source": [
    "sample = dataset[0]\n",
    "print(\"Shape of data.pos:\", sample.pos.shape)\n",
    "print(\"Shape of data.x:\", sample.x.shape)\n",
    "print(\"Shape of data.coords:\", sample.coords.shape)\n",
    "print(\"Shape of data.y:\", sample.y.shape)\n",
    "print(sample.y)\n",
    "# print(\"x dim:\", dataset.x_dim)\n",
    "# print(\"coords dim:\", dataset.coords_dim)\n",
    "\n",
    "# model = Transformer(in_dim=dataset.x_dim, coords_dim=dataset.coords_dim, num_classes=dataset.num_classes, **model_configs).to(device)\n",
    "model = Transformer(in_dim=4, coords_dim=dataset.coords_dim, num_classes=10, **model_configs).to(device)"
   ]
  },
  {
   "cell_type": "code",
   "execution_count": 6,
   "metadata": {},
   "outputs": [],
   "source": [
    "criterion = get_loss('crossentropy', None)\n",
    "metrics = init_metrics('jetclass')"
   ]
  },
  {
   "cell_type": "code",
   "execution_count": 7,
   "metadata": {},
   "outputs": [],
   "source": [
    "from torch.optim import Adam\n",
    "from torch.optim.lr_scheduler import ReduceLROnPlateau\n",
    "config = {\n",
    "    'optimizer_name': 'adam',\n",
    "    'optimizer_kwargs': {'lr': 1.0e-3},\n",
    "    'lr_scheduler_name': 'impatient',\n",
    "    'lr_scheduler_kwargs': {\n",
    "        'factor': 0.5,\n",
    "        'patience': 20,\n",
    "        'mode': 'min',\n",
    "        'num_training_steps': 1\n",
    "    },\n",
    "    \n",
    "}\n",
    "# Get optimizer\n",
    "optimizer = get_optimizer(model.parameters(), config['optimizer_name'], config['optimizer_kwargs'])\n",
    "# Get learning rate scheduler\n",
    "lr_scheduler = get_lr_scheduler(optimizer, config['lr_scheduler_name'], config['lr_scheduler_kwargs'])"
   ]
  },
  {
   "cell_type": "code",
   "execution_count": 8,
   "metadata": {},
   "outputs": [
    {
     "name": "stderr",
     "output_type": "stream",
     "text": [
      "[Epoch 0] train, loss: 0.0001, acc: 0.1000: 100%|██████████| 60000/60000 [18:40<00:00, 53.54it/s] "
     ]
    },
    {
     "name": "stdout",
     "output_type": "stream",
     "text": [
      "{'loss': 6.213477482241399e-05, 'accuracy': 0.10001333333333333}\n"
     ]
    },
    {
     "name": "stderr",
     "output_type": "stream",
     "text": [
      "\n"
     ]
    }
   ],
   "source": [
    "for _ in range(10): \n",
    "    train_res = run_one_epoch(model, optimizer, criterion, loaders[\"train\"], \"train\", 0, device, metrics, lr_scheduler)\n",
    "    print(train_res)"
   ]
  },
  {
   "cell_type": "code",
   "execution_count": null,
   "metadata": {},
   "outputs": [],
   "source": []
  }
 ],
 "metadata": {
  "kernelspec": {
   "display_name": "hept",
   "language": "python",
   "name": "python3"
  },
  "language_info": {
   "codemirror_mode": {
    "name": "ipython",
    "version": 3
   },
   "file_extension": ".py",
   "mimetype": "text/x-python",
   "name": "python",
   "nbconvert_exporter": "python",
   "pygments_lexer": "ipython3",
   "version": "3.9.19"
  }
 },
 "nbformat": 4,
 "nbformat_minor": 2
}
